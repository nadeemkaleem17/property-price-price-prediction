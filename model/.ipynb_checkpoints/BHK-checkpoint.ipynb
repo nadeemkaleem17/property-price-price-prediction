{
 "cells": [
  {
   "cell_type": "markdown",
   "id": "19f394be-f1ca-4829-a2b2-161beb41347f",
   "metadata": {},
   "source": [
    "# Data Cleaning"
   ]
  },
  {
   "cell_type": "code",
   "execution_count": 8,
   "id": "62747854-08b6-4eaf-bd89-87003050460d",
   "metadata": {},
   "outputs": [
    {
     "ename": "AttributeError",
     "evalue": "module 'matplotlib' has no attribute 'rcparams'",
     "output_type": "error",
     "traceback": [
      "\u001b[1;31m---------------------------------------------------------------------------\u001b[0m",
      "\u001b[1;31mAttributeError\u001b[0m                            Traceback (most recent call last)",
      "Cell \u001b[1;32mIn[8], line 6\u001b[0m\n\u001b[0;32m      4\u001b[0m get_ipython()\u001b[38;5;241m.\u001b[39mrun_line_magic(\u001b[38;5;124m'\u001b[39m\u001b[38;5;124mmatplotlib\u001b[39m\u001b[38;5;124m'\u001b[39m, \u001b[38;5;124m'\u001b[39m\u001b[38;5;124minline\u001b[39m\u001b[38;5;124m'\u001b[39m)\n\u001b[0;32m      5\u001b[0m \u001b[38;5;28;01mimport\u001b[39;00m \u001b[38;5;21;01mmatplotlib\u001b[39;00m\n\u001b[1;32m----> 6\u001b[0m matplotlib\u001b[38;5;241m.\u001b[39mrcparams[\u001b[38;5;124m'\u001b[39m\u001b[38;5;124mfigure.figsize\u001b[39m\u001b[38;5;124m'\u001b[39m] \u001b[38;5;241m=\u001b[39m (\u001b[38;5;241m20\u001b[39m,)\n",
      "File \u001b[1;32mC:\\anaconda_installation\\Lib\\site-packages\\matplotlib\\_api\\__init__.py:217\u001b[0m, in \u001b[0;36mcaching_module_getattr.<locals>.__getattr__\u001b[1;34m(name)\u001b[0m\n\u001b[0;32m    215\u001b[0m \u001b[38;5;28;01mif\u001b[39;00m name \u001b[38;5;129;01min\u001b[39;00m props:\n\u001b[0;32m    216\u001b[0m     \u001b[38;5;28;01mreturn\u001b[39;00m props[name]\u001b[38;5;241m.\u001b[39m\u001b[38;5;21m__get__\u001b[39m(instance)\n\u001b[1;32m--> 217\u001b[0m \u001b[38;5;28;01mraise\u001b[39;00m \u001b[38;5;167;01mAttributeError\u001b[39;00m(\n\u001b[0;32m    218\u001b[0m     \u001b[38;5;124mf\u001b[39m\u001b[38;5;124m\"\u001b[39m\u001b[38;5;124mmodule \u001b[39m\u001b[38;5;132;01m{\u001b[39;00m\u001b[38;5;28mcls\u001b[39m\u001b[38;5;241m.\u001b[39m\u001b[38;5;18m__module__\u001b[39m\u001b[38;5;132;01m!r}\u001b[39;00m\u001b[38;5;124m has no attribute \u001b[39m\u001b[38;5;132;01m{\u001b[39;00mname\u001b[38;5;132;01m!r}\u001b[39;00m\u001b[38;5;124m\"\u001b[39m)\n",
      "\u001b[1;31mAttributeError\u001b[0m: module 'matplotlib' has no attribute 'rcparams'"
     ]
    }
   ],
   "source": [
    "import pandas as pd\n",
    "import numpy as np\n",
    "from matplotlib import pyplot as plt\n",
    "%matplotlib inline\n",
    "import matplotlib\n",
    "matplotlib.rcparams['figure.figsize'] = (20,)"
   ]
  },
  {
   "cell_type": "code",
   "execution_count": null,
   "id": "1c7172c4-3cf4-4b2d-9992-aeae22328e96",
   "metadata": {},
   "outputs": [],
   "source": [
    "df1 = pd.read_csv(\"Bengaluru_House_Data.csv\")\n",
    "df1.head()"
   ]
  },
  {
   "cell_type": "code",
   "execution_count": null,
   "id": "c2162255-5c20-4f10-8ff5-78dbcdd141fa",
   "metadata": {},
   "outputs": [],
   "source": [
    "df1.groupby('area_type')['area_type'].agg('count')"
   ]
  },
  {
   "cell_type": "code",
   "execution_count": null,
   "id": "e6bfb4f3-c664-4be0-9cc4-7143f1b6e9c0",
   "metadata": {},
   "outputs": [],
   "source": [
    "df2 = df1.drop(['area_type','availability','society','balcony'], axis = 'columns')"
   ]
  },
  {
   "cell_type": "code",
   "execution_count": null,
   "id": "0c60aaa2-ec73-46a7-bf85-89c311593b91",
   "metadata": {},
   "outputs": [],
   "source": [
    "df2.head()"
   ]
  },
  {
   "cell_type": "code",
   "execution_count": null,
   "id": "369371fd-741f-46a1-aa8b-9a7a90e0b39f",
   "metadata": {},
   "outputs": [],
   "source": [
    "df2.isnull().sum()"
   ]
  },
  {
   "cell_type": "code",
   "execution_count": null,
   "id": "c656e20b-0135-49b1-a096-52b579dbb5f1",
   "metadata": {},
   "outputs": [],
   "source": [
    "df3 = df2.dropna()\n",
    "df3.isnull().sum()"
   ]
  },
  {
   "cell_type": "code",
   "execution_count": null,
   "id": "4dc8f2da-24b0-4928-8402-87a6b7898af4",
   "metadata": {
    "scrolled": true
   },
   "outputs": [],
   "source": [
    "df3['size'].unique()"
   ]
  },
  {
   "cell_type": "code",
   "execution_count": null,
   "id": "86133af8-af4e-4e18-8a1f-78e0a0e60613",
   "metadata": {},
   "outputs": [],
   "source": [
    "df3['bhk'] = df3['size'].apply(lambda x: int(x.split(' ')[0]))\n",
    "df3.head()"
   ]
  },
  {
   "cell_type": "code",
   "execution_count": null,
   "id": "0cd381c7-731b-41f4-9ed4-73ea8ac66407",
   "metadata": {},
   "outputs": [],
   "source": [
    "df3['bhk'].unique()"
   ]
  },
  {
   "cell_type": "code",
   "execution_count": null,
   "id": "7be924fd-cd26-406a-90b3-df492b155c64",
   "metadata": {},
   "outputs": [],
   "source": [
    "df3[df3.bhk > 20]"
   ]
  },
  {
   "cell_type": "code",
   "execution_count": null,
   "id": "e3917c57-b108-4446-aa00-8c7b222e97e3",
   "metadata": {},
   "outputs": [],
   "source": [
    "df3['total_sqft'].unique()"
   ]
  },
  {
   "cell_type": "code",
   "execution_count": null,
   "id": "90095ef6-6f7e-4681-8455-680b9e209fe6",
   "metadata": {},
   "outputs": [],
   "source": [
    "def is_float(x):\n",
    "    try:\n",
    "        float(x)\n",
    "    except:\n",
    "        return False\n",
    "    return True"
   ]
  },
  {
   "cell_type": "code",
   "execution_count": null,
   "id": "8e765322-64ce-43f3-92a6-946d496577fc",
   "metadata": {},
   "outputs": [],
   "source": [
    "df3[~df3['total_sqft'].apply(is_float)].head(5)"
   ]
  },
  {
   "cell_type": "code",
   "execution_count": null,
   "id": "dd6a6dfe-1716-4698-9ed7-771a8200795a",
   "metadata": {},
   "outputs": [],
   "source": [
    "def convert_sqft_to_num(x):\n",
    "    tokens = x.split('-')\n",
    "    if len(tokens) == 2:\n",
    "        return (float(tokens[0]) + float(tokens[1]))/2\n",
    "    try:\n",
    "        return float(x)\n",
    "    except:\n",
    "        return None"
   ]
  },
  {
   "cell_type": "markdown",
   "id": "33a13d7a-a31d-4b97-8ac2-08c9e12edec3",
   "metadata": {},
   "source": [
    "convert_sqft_to_num('2710')"
   ]
  },
  {
   "cell_type": "code",
   "execution_count": null,
   "id": "bfedff3a-2087-4513-b20f-b1340b4dd4d5",
   "metadata": {},
   "outputs": [],
   "source": [
    "convert_sqft_to_num('2710 - 3360')"
   ]
  },
  {
   "cell_type": "code",
   "execution_count": null,
   "id": "7dd726be-3d9f-4beb-8a0b-3cec544f927f",
   "metadata": {},
   "outputs": [],
   "source": [
    "convert_sqft_to_num('167Sq. Meter')"
   ]
  },
  {
   "cell_type": "code",
   "execution_count": null,
   "id": "666c5baa-66bf-4f12-bd2d-ca885476aaf0",
   "metadata": {},
   "outputs": [],
   "source": [
    "df4 = df3.copy()\n",
    "df4['total_sqft'] = df4['total_sqft'].apply(convert_sqft_to_num)\n",
    "df4.head()"
   ]
  },
  {
   "cell_type": "code",
   "execution_count": null,
   "id": "dc8c434a-b04f-46c3-8a6e-2d958513b447",
   "metadata": {},
   "outputs": [],
   "source": [
    "# 2100 - 2850\n",
    "df4.loc[30]"
   ]
  },
  {
   "cell_type": "markdown",
   "id": "4becb354-0ce9-47d5-bb29-2867bac9615e",
   "metadata": {},
   "source": [
    "# Feature Engineering"
   ]
  },
  {
   "cell_type": "code",
   "execution_count": null,
   "id": "0baec9cd-49d2-4eb5-bfff-8bc9d0f8ac41",
   "metadata": {},
   "outputs": [],
   "source": [
    "# Calculating price per square feet\n",
    "\n",
    "df5 = df4.copy()\n",
    "df5['price_per_sqr_feet'] = df5['price']*100000/df5['total_sqft']\n",
    "df5.head()"
   ]
  },
  {
   "cell_type": "code",
   "execution_count": 5,
   "id": "93c4bc7f-229e-48c4-92a9-4be75a721e28",
   "metadata": {},
   "outputs": [
    {
     "ename": "NameError",
     "evalue": "name 'df5' is not defined",
     "output_type": "error",
     "traceback": [
      "\u001b[1;31m---------------------------------------------------------------------------\u001b[0m",
      "\u001b[1;31mNameError\u001b[0m                                 Traceback (most recent call last)",
      "Cell \u001b[1;32mIn[5], line 1\u001b[0m\n\u001b[1;32m----> 1\u001b[0m \u001b[38;5;28mlen\u001b[39m(df5\u001b[38;5;241m.\u001b[39mlocation\u001b[38;5;241m.\u001b[39munique())\n",
      "\u001b[1;31mNameError\u001b[0m: name 'df5' is not defined"
     ]
    }
   ],
   "source": [
    "len(df5.location.unique())"
   ]
  },
  {
   "cell_type": "code",
   "execution_count": null,
   "id": "b03cfd4d-1728-4e24-8ff8-5f0d2410dcf9",
   "metadata": {},
   "outputs": [],
   "source": [
    "df5['location'] = df5['location'].apply(lambda x: x.strip())\n",
    "\n",
    "df5_location_stats = df5.groupby('location')['location'].agg('count').sort_values(ascending = False)"
   ]
  },
  {
   "cell_type": "code",
   "execution_count": null,
   "id": "1ca85aff-9675-4f87-84c9-cc7fbb51039c",
   "metadata": {},
   "outputs": [],
   "source": [
    "df5_location_stats"
   ]
  },
  {
   "cell_type": "code",
   "execution_count": null,
   "id": "3ed1c926-b762-40f0-bc27-07270c322928",
   "metadata": {},
   "outputs": [],
   "source": [
    "len(df5_location_stats[df5_location_stats <= 10])"
   ]
  },
  {
   "cell_type": "code",
   "execution_count": null,
   "id": "bca67413-4048-436c-a5fa-92a99474564a",
   "metadata": {},
   "outputs": [],
   "source": [
    "df5_location_stats_less_than_10 = df5_location_stats[df5_location_stats <= 10]\n",
    "\n",
    "\n",
    "# check how many unique locations in df\n",
    "# apply other to locations that are in lessthan10stats and leave the rest\n",
    "# \n",
    "# "
   ]
  },
  {
   "cell_type": "code",
   "execution_count": null,
   "id": "ab53195e-d3fe-498c-9540-585f4160d174",
   "metadata": {},
   "outputs": [],
   "source": [
    "len(df5.location.unique())"
   ]
  },
  {
   "cell_type": "code",
   "execution_count": null,
   "id": "d38d1b5b-87ae-4ecd-aefa-9eec51f10c3c",
   "metadata": {},
   "outputs": [],
   "source": [
    "len(df5_location_stats_less_than_10)"
   ]
  },
  {
   "cell_type": "code",
   "execution_count": null,
   "id": "5a0ff597-ae63-43cc-8602-7c5cd5ddbfa2",
   "metadata": {},
   "outputs": [],
   "source": []
  },
  {
   "cell_type": "code",
   "execution_count": null,
   "id": "53b28660-3b7d-47a9-a44c-f5f856d52be9",
   "metadata": {},
   "outputs": [],
   "source": [
    "df5.location = df5.location.apply(lambda x: 'other' if x in df5_location_stats_less_than_10 else x)"
   ]
  },
  {
   "cell_type": "code",
   "execution_count": null,
   "id": "01124087-63b2-49a3-b7c5-89ae5dd78359",
   "metadata": {},
   "outputs": [],
   "source": [
    "len(df5.location.unique())"
   ]
  },
  {
   "cell_type": "code",
   "execution_count": null,
   "id": "88fa937d-4363-4ae1-884b-158a10a2fe98",
   "metadata": {},
   "outputs": [],
   "source": [
    "df5.head(10)"
   ]
  },
  {
   "cell_type": "code",
   "execution_count": null,
   "id": "c8b1dfc8-1ce1-4e52-b725-142a92de7de8",
   "metadata": {},
   "outputs": [],
   "source": [
    "# check bhk per squarefeet\n",
    "# check the description of data\n",
    "df5.shape"
   ]
  },
  {
   "cell_type": "code",
   "execution_count": null,
   "id": "51fe42f6-82eb-4748-a3e2-2d1b73bb2cee",
   "metadata": {},
   "outputs": [],
   "source": [
    "df6 = df5[~(df5.total_sqft/df5.bhk < 300)]\n",
    "df6.shape"
   ]
  },
  {
   "cell_type": "code",
   "execution_count": null,
   "id": "259f5b97-ca00-4d5a-9472-ece1b26e72b2",
   "metadata": {
    "scrolled": true
   },
   "outputs": [],
   "source": [
    "df6.price_per_sqr_feet.describe()"
   ]
  },
  {
   "cell_type": "code",
   "execution_count": null,
   "id": "aa172ea6-9e73-4a86-95a0-0aecf8de4487",
   "metadata": {},
   "outputs": [],
   "source": [
    "df6.shape"
   ]
  },
  {
   "cell_type": "code",
   "execution_count": null,
   "id": "480d7b6f-b09e-4340-8adf-fe178f65c9c3",
   "metadata": {},
   "outputs": [],
   "source": [
    "def df_remove_pps_outliers(df):\n",
    "    df_out = pd.DataFrame()\n",
    "    for key, subdf in df.groupby('location'):\n",
    "        m = np.mean(subdf.price_per_sqr_feet)\n",
    "        st = np.std(subdf.price_per_sqr_feet)\n",
    "        reduced_df = subdf[(subdf.price_per_sqr_feet > (m-st)) & (subdf.price_per_sqr_feet<=(m+st))]\n",
    "        df_out = pd.concat([df_out, reduced_df], ignore_index = True)\n",
    "    return df_out\n",
    "\n",
    "df7 = df_remove_pps_outliers(df6)\n",
    "df7.shape"
   ]
  },
  {
   "cell_type": "code",
   "execution_count": null,
   "id": "6bf7e464-ca9f-466a-9993-6a01a0bd4ef3",
   "metadata": {},
   "outputs": [],
   "source": [
    "def plot_scatter_chart(df,location):\n",
    "    bhk2 = df[(df.location==location) & (df.bhk==2)]\n",
    "    bhk3 = df[(df.location==location) & (df.bhk==3)]\n",
    "    matplotlib.rcParams['figure.figsize'] = (15,10)\n",
    "    plt.scatter(bhk2.total_sqft,bhk2.price,color='blue',label='2 BHK', s=50)\n",
    "    plt.scatter(bhk3.total_sqft,bhk3.price,marker='+', color='green',label='3 BHK', s=50)\n",
    "    plt.xlabel(\"Total Square Feet Area\")\n",
    "    plt.ylabel(\"Price (Lakh Indian Rupees)\")\n",
    "    plt.title(location)\n",
    "    plt.legend()\n",
    "plot_scatter_chart(df7,\"Hebbal\")"
   ]
  },
  {
   "cell_type": "code",
   "execution_count": null,
   "id": "33c9dfc6-980e-45db-b800-08f1fa4ae3a2",
   "metadata": {},
   "outputs": [],
   "source": [
    "def remove_bhk_outlier(df):\n",
    "    excludes_indices = np.array([])\n",
    "    for location, location_df in df.groupby('location'):\n",
    "        bhk_stats = {}\n",
    "        for bhk, bhk_df in location_df.groupby('bhk'):\n",
    "            bhk_stats[bhk] = {\n",
    "                'mean':np.mean(bhk_df.price_per_sqr_feet),\n",
    "                'std': np.std(bhk_df.price_per_sqr_feet),\n",
    "                'count': bhk_df.shape[0]\n",
    "            }\n",
    "        for bhk, bhk_df in location_df.groupby('bhk'):\n",
    "            stats = bhk_stats.get(bhk-1)\n",
    "            if(stats and stats['count'] > 5):\n",
    "                excludes_indices = np.append(excludes_indices, bhk_df[(bhk_df.price_per_sqr_feet) < (stats['mean'])].index.values)\n",
    "    return df.drop(excludes_indices, axis = 'index')"
   ]
  },
  {
   "cell_type": "code",
   "execution_count": null,
   "id": "c95f9a8a-306a-43e8-bc19-4ec43f90a786",
   "metadata": {},
   "outputs": [],
   "source": [
    "df8 = remove_bhk_outlier(df7)\n",
    "df8.shape"
   ]
  },
  {
   "cell_type": "code",
   "execution_count": null,
   "id": "58bfb370-77f1-42e3-8075-6b45995be08a",
   "metadata": {},
   "outputs": [],
   "source": [
    "plot_scatter_chart(df8,\"Hebbal\")"
   ]
  },
  {
   "cell_type": "code",
   "execution_count": null,
   "id": "996eae2e-1b7e-4c92-9358-e090019b4562",
   "metadata": {},
   "outputs": [],
   "source": [
    "import matplotlib\n",
    "matplotlib.rcParams['figure.figsize'] = (20,10)\n",
    "plt.hist(df8.price_per_sqr_feet, rwidth = 0.8)\n",
    "plt.xlabel('Price Per sqrft')\n",
    "plt.ylabel('Count')"
   ]
  },
  {
   "cell_type": "code",
   "execution_count": null,
   "id": "b4be5cc7-881e-40ed-aac5-e8d930938b89",
   "metadata": {},
   "outputs": [],
   "source": [
    "df8.shape"
   ]
  },
  {
   "cell_type": "code",
   "execution_count": null,
   "id": "c55ea9cf-75da-4d86-bc06-ea98ae41f3b9",
   "metadata": {},
   "outputs": [],
   "source": [
    "df9 = df8[df8.bath < df8.bhk + 2]\n",
    "df9.shape"
   ]
  },
  {
   "cell_type": "code",
   "execution_count": null,
   "id": "c09a07b4-6d36-4f8e-8625-8187e49b0b8e",
   "metadata": {},
   "outputs": [],
   "source": [
    "df10 = df9.drop(['size','price_per_sqr_feet'], axis = 'columns')"
   ]
  },
  {
   "cell_type": "code",
   "execution_count": null,
   "id": "5d294ec1-0aec-436d-ace3-249876b0c251",
   "metadata": {},
   "outputs": [],
   "source": [
    "df10.head(3)"
   ]
  },
  {
   "cell_type": "code",
   "execution_count": null,
   "id": "81e31254-cacd-4cce-86c3-e1a94d89bd1e",
   "metadata": {},
   "outputs": [],
   "source": [
    "dummies = pd.get_dummies(df10.location).astype(int)\n",
    "dummies.head(3)"
   ]
  },
  {
   "cell_type": "code",
   "execution_count": null,
   "id": "2614b3ba-5ad2-49fb-a5a9-e97d9e810dbb",
   "metadata": {
    "scrolled": true
   },
   "outputs": [],
   "source": [
    "df11 = pd.concat([df10, dummies.drop('other', axis = 'columns')], axis = 'columns')\n",
    "df11.head()"
   ]
  },
  {
   "cell_type": "code",
   "execution_count": null,
   "id": "72be63ee-393c-4a75-8d03-3839f0095ec2",
   "metadata": {},
   "outputs": [],
   "source": [
    "df12 = df11.drop('location', axis = 'columns')\n",
    "df12.head(3)"
   ]
  },
  {
   "cell_type": "markdown",
   "id": "9e175bbe-1f05-4313-90ea-ca295d10c6cf",
   "metadata": {},
   "source": [
    "## *Applying Machine Learning Algorithms*"
   ]
  },
  {
   "cell_type": "code",
   "execution_count": null,
   "id": "51550a5d-1275-4b7c-94df-0f322d64be0a",
   "metadata": {},
   "outputs": [],
   "source": [
    "# Extract X input\n",
    "# Extract the Y output"
   ]
  },
  {
   "cell_type": "code",
   "execution_count": 6,
   "id": "a2347b17-ca6e-4c28-b6d4-b1066ba3bac0",
   "metadata": {},
   "outputs": [
    {
     "ename": "NameError",
     "evalue": "name 'df12' is not defined",
     "output_type": "error",
     "traceback": [
      "\u001b[1;31m---------------------------------------------------------------------------\u001b[0m",
      "\u001b[1;31mNameError\u001b[0m                                 Traceback (most recent call last)",
      "Cell \u001b[1;32mIn[6], line 1\u001b[0m\n\u001b[1;32m----> 1\u001b[0m X \u001b[38;5;241m=\u001b[39m df12\u001b[38;5;241m.\u001b[39mdrop(\u001b[38;5;124m'\u001b[39m\u001b[38;5;124mprice\u001b[39m\u001b[38;5;124m'\u001b[39m, axis \u001b[38;5;241m=\u001b[39m \u001b[38;5;124m'\u001b[39m\u001b[38;5;124mcolumns\u001b[39m\u001b[38;5;124m'\u001b[39m)\n\u001b[0;32m      2\u001b[0m X\u001b[38;5;241m.\u001b[39mhead(\u001b[38;5;241m3\u001b[39m)\n",
      "\u001b[1;31mNameError\u001b[0m: name 'df12' is not defined"
     ]
    }
   ],
   "source": [
    "X = df12.drop('price', axis = 'columns')\n",
    "X.head(3)"
   ]
  },
  {
   "cell_type": "code",
   "execution_count": null,
   "id": "b7b05d17-2c4d-4c31-b167-247f6e712052",
   "metadata": {},
   "outputs": [],
   "source": [
    "y = df12.price\n",
    "y.head(3)"
   ]
  },
  {
   "cell_type": "code",
   "execution_count": null,
   "id": "1caa08cc-e889-4e82-b8ec-eff949156511",
   "metadata": {},
   "outputs": [],
   "source": [
    "from sklearn.model_selection import train_test_split\n",
    "X_train, X_test, y_train, y_test = train_test_split(X,y, test_size = 0.2, random_state = 10)"
   ]
  },
  {
   "cell_type": "code",
   "execution_count": null,
   "id": "07c5e32f-cdc0-4a5b-a9a1-e2c17c5ef01d",
   "metadata": {},
   "outputs": [],
   "source": [
    "from sklearn.linear_model import LinearRegression\n",
    "lr_clf = LinearRegression()\n",
    "lr_clf.fit(X_train, y_train)\n",
    "lr_clf.score(X_test, y_test)"
   ]
  },
  {
   "cell_type": "code",
   "execution_count": null,
   "id": "35647b5c-36a5-48c5-b43b-c549266c2c60",
   "metadata": {},
   "outputs": [],
   "source": [
    "from sklearn.model_selection import ShuffleSplit\n",
    "from sklearn.model_selection import cross_val_score\n",
    "\n",
    "cv = ShuffleSplit(n_splits = 10, test_size =0.2, random_state = 0)\n",
    "\n",
    "cross_val_score(LinearRegression(), X, y, cv = cv)"
   ]
  },
  {
   "cell_type": "code",
   "execution_count": null,
   "id": "669cced3-0f1e-49b1-b8ff-40527f94379b",
   "metadata": {},
   "outputs": [],
   "source": [
    "from sklearn.model_selection import GridSearchCV\n",
    "\n",
    "\n",
    "from sklearn.linear_model import Lasso\n",
    "from sklearn.tree import DecisionTreeRegressor\n",
    "\n",
    "def find_best_model_using_gridSearch(X,y):\n",
    "    algos = {\n",
    "        'linear_regression':\n",
    "        {\n",
    "        'model': LinearRegression(),\n",
    "        'params': { \n",
    "            # 'normalize':  [True, False]\n",
    "            }\n",
    "        },\n",
    "        'lasso':\n",
    "        {\n",
    "            'model': Lasso(),\n",
    "            'params': {\n",
    "                    'alpha': [1,2],\n",
    "                    'selection': ['random', 'cyclic']\n",
    "                }\n",
    "        },\n",
    "        'decision_tree': \n",
    "        {\n",
    "            'model': DecisionTreeRegressor(),\n",
    "            'params': {\n",
    "                'criterion': ['squared_error', 'friedman_mse', 'absolute_error', 'poisson'],\n",
    "                'splitter': ['best','random']\n",
    "            }\n",
    "        }\n",
    "    }\n",
    "    scores = []\n",
    "    cv = ShuffleSplit(n_splits = 10, test_size = 0.2, random_state = 0)\n",
    "    for algo_name, config in algos.items():\n",
    "        gs = GridSearchCV(config['model'], config['params'], cv = cv, return_train_score = False)\n",
    "        gs.fit(X,y)\n",
    "        scores.append({\n",
    "            'model': algo_name,\n",
    "            'best_score': gs.best_score_,\n",
    "            'best_params': gs.best_params_\n",
    "        })\n",
    "    return pd.DataFrame(scores, columns = ['model','best_score','best_params'])\n",
    "\n",
    "\n",
    "\n",
    "find_best_model_using_gridSearch(X,y)"
   ]
  },
  {
   "cell_type": "code",
   "execution_count": null,
   "id": "b5a4f648-ee7a-4544-9ecc-2f8c6d0c7961",
   "metadata": {},
   "outputs": [],
   "source": [
    "def predict_price(location,sqft,bath,bhk):    \n",
    "    loc_index = np.where(X.columns==location)[0][0]\n",
    "\n",
    "    x = np.zeros(len(X.columns))\n",
    "    x[0] = sqft\n",
    "    x[1] = bath\n",
    "    x[2] = bhk\n",
    "    if loc_index >= 0:\n",
    "        x[loc_index] = 1\n",
    "\n",
    "    return lr_clf.predict([x])[0]"
   ]
  },
  {
   "cell_type": "code",
   "execution_count": null,
   "id": "254357cc-1d86-478c-8245-4b8a1b387c83",
   "metadata": {},
   "outputs": [],
   "source": [
    "predict_price('1st Phase JP Nagar',1000, 2, 2)\n",
    "# 83.86570258311222\n"
   ]
  },
  {
   "cell_type": "code",
   "execution_count": null,
   "id": "925c2eb2-3085-4b58-a966-1b4f918c663b",
   "metadata": {},
   "outputs": [],
   "source": [
    "predict_price('1st Phase JP Nagar',1000, 3, 3)\n",
    "# 86.08062284985995\n"
   ]
  },
  {
   "cell_type": "code",
   "execution_count": null,
   "id": "53dcf62c-6a64-43c2-abfd-ac3b2eb5c326",
   "metadata": {},
   "outputs": [],
   "source": [
    "predict_price('Indira Nagar',1000, 2, 2)\n",
    "# 193.31197733179556\n"
   ]
  },
  {
   "cell_type": "code",
   "execution_count": null,
   "id": "bcf290eb-0edc-423e-a72d-116b3449975b",
   "metadata": {},
   "outputs": [],
   "source": [
    "predict_price('Indira Nagar',1000, 3, 3)\n",
    "# 195.52689759854331"
   ]
  },
  {
   "cell_type": "code",
   "execution_count": null,
   "id": "228b3bba-ffb7-4af2-a888-cf451f873970",
   "metadata": {},
   "outputs": [],
   "source": [
    "import pickle\n",
    "with open('banglore_home_prices_model.pickle', 'wb') as f:\n",
    "    pickle.dump(lr_clf, f)"
   ]
  },
  {
   "cell_type": "code",
   "execution_count": null,
   "id": "181b7854-dae1-40c7-85d0-3d76fd580cb3",
   "metadata": {},
   "outputs": [],
   "source": [
    "import json\n",
    "\n",
    "columns = {\n",
    "    'data_columns': [col.lower() for col in X.columns]\n",
    "}\n",
    "with open(\"columns.json\", \"w\") as f:\n",
    "    f.write(json.dump(columns))"
   ]
  }
 ],
 "metadata": {
  "kernelspec": {
   "display_name": "Python 3 (ipykernel)",
   "language": "python",
   "name": "python3"
  },
  "language_info": {
   "codemirror_mode": {
    "name": "ipython",
    "version": 3
   },
   "file_extension": ".py",
   "mimetype": "text/x-python",
   "name": "python",
   "nbconvert_exporter": "python",
   "pygments_lexer": "ipython3",
   "version": "3.11.7"
  }
 },
 "nbformat": 4,
 "nbformat_minor": 5
}
